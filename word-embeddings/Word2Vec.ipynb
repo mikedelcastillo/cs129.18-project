{
 "cells": [
  {
   "cell_type": "code",
   "execution_count": 3,
   "metadata": {},
   "outputs": [],
   "source": [
    "import multiprocessing\n",
    "import pandas as pd\n",
    "import numpy as np\n",
    "\n",
    "from keras.preprocessing.text import text_to_word_sequence"
   ]
  },
  {
   "cell_type": "code",
   "execution_count": 11,
   "metadata": {},
   "outputs": [
    {
     "name": "stdout",
     "output_type": "stream",
     "text": [
      "['for' 'with' 're' 'most' \"it's\" 'herself' 'after' 'before' 'i' 'by' 'how'\n",
      " 'can' 'because' \"you've\" 'further' 'which' 'an' 'll' 'weren' 'will' 've'\n",
      " 'her' 'about' 'his' 'whom' 'himself' 'where' 'had' 'all' 'what' 'each'\n",
      " 'we' 'did' 'won' 'be' 'under' 'if' 'out' 'below' 'doing' 'than' 's'\n",
      " 'down' \"you'd\" 'it' 'was' 'until' 'other' 'ourselves' 'm' 'up' 'theirs'\n",
      " 'of' 'them' 'is' 'then' 'yours' 'on' 'so' 'our' 'my' 'does' 'very' 'the'\n",
      " 'has' 'or' 'you' \"should've\" \"you're\" 'hers' 'your' 'now' 'only' 'don'\n",
      " 'they' 'she' 'while' 'am' 'both' 'do' 'at' 'to' 'being' 'been' 'such' 't'\n",
      " \"that'll\" 'own' 'themselves' 'once' 'why' 'its' 'during' 'their' 'again'\n",
      " 'yourselves' 'through' 'into' 'from' 'above' 'over' 'same' 'ma' 'and'\n",
      " 'in' 'too' 'this' \"she's\" 'who' 'he' 'me' 'have' 'any' 'a' 'just'\n",
      " 'yourself' 'those' 'myself' 'o' 'off' 'as' 'are' 'between' 'there' 'him'\n",
      " 'd' \"you'll\" 'few' 'should' 'itself' 'ours' 'y' 'that' 'having' 'these'\n",
      " 'here' 'some' 'when' 'more' 'were']\n"
     ]
    }
   ],
   "source": [
    "from keras.preprocessing.text import text_to_word_sequence\n",
    "\n",
    "stop_words = pd.read_csv('../data/stopwords.csv')['words'].values\n",
    "# stop_words.append(['wisdom'])\n",
    "\n",
    "def remove_stop_words(text):\n",
    "    word_tokens = text_to_word_sequence(text) \n",
    "    filtered_sentence = [w for w in word_tokens if not w in stop_words] \n",
    "    return ' '.join(filtered_sentence)\n",
    "\n",
    "print(stop_words)"
   ]
  },
  {
   "cell_type": "code",
   "execution_count": 12,
   "metadata": {},
   "outputs": [],
   "source": [
    "sentences = [\n",
    "    'the king is a man of wisdom',\n",
    "    'the queen is a woman of beauty',\n",
    "    'the king is royal',\n",
    "    'the queen is royal',\n",
    "    'the royal family is mighty',\n",
    "]"
   ]
  },
  {
   "cell_type": "code",
   "execution_count": 13,
   "metadata": {},
   "outputs": [
    {
     "data": {
      "text/plain": [
       "[['king', 'man', 'wisdom'],\n",
       " ['queen', 'woman', 'beauty'],\n",
       " ['king', 'royal'],\n",
       " ['queen', 'royal'],\n",
       " ['royal', 'family', 'mighty']]"
      ]
     },
     "execution_count": 13,
     "metadata": {},
     "output_type": "execute_result"
    }
   ],
   "source": [
    "corpus = [text_to_word_sequence(y) for y in [remove_stop_words(x) for x in sentences]]\n",
    "    \n",
    "corpus"
   ]
  },
  {
   "cell_type": "code",
   "execution_count": null,
   "metadata": {},
   "outputs": [],
   "source": [
    "vector_size = 3"
   ]
  },
  {
   "cell_type": "code",
   "execution_count": null,
   "metadata": {},
   "outputs": [],
   "source": [
    "from gensim.models.word2vec import Word2Vec\n",
    "from gensim.models import KeyedVectors\n",
    "\n",
    "word2vec = Word2Vec(sentences=corpus,\n",
    "                    size=vector_size, \n",
    "                    window=1, \n",
    "                    negative=2,\n",
    "                    iter=500,\n",
    "                    seed=1000,\n",
    "                    min_count=1,\n",
    "                    workers=multiprocessing.cpu_count())\n",
    "\n",
    "vecs_x = word2vec.wv"
   ]
  },
  {
   "cell_type": "code",
   "execution_count": null,
   "metadata": {},
   "outputs": [],
   "source": [
    "from mpl_toolkits import mplot3d\n",
    "%matplotlib inline\n",
    "import numpy as np\n",
    "import matplotlib.pyplot as plt\n",
    "from IPython.display import clear_output"
   ]
  },
  {
   "cell_type": "code",
   "execution_count": null,
   "metadata": {},
   "outputs": [],
   "source": [
    "fig = plt.figure()\n",
    "ax = plt.axes(projection='3d')\n",
    "\n",
    "for word in vecs_x.vocab:\n",
    "    x = vecs_x[word][0]\n",
    "    y = vecs_x[word][1]    \n",
    "    z = vecs_x[word][2]\n",
    "    \n",
    "    ax.scatter(x, y, z, color='b')\n",
    "    ax.text(x, y, z, '%s' % (word), size=20, zorder=1, color='k')\n",
    "    \n",
    "plt.figure(figsize=(1,1))\n",
    "\n",
    "\n",
    "# for angle in range(0, 360):\n",
    "\n",
    "#     ax.view_init(30, angle)\n",
    "plt.draw()\n",
    "#     plt.pause(.001)"
   ]
  },
  {
   "cell_type": "code",
   "execution_count": null,
   "metadata": {},
   "outputs": [],
   "source": [
    "!git add *\n",
    "!git commit -m \"yay\"\n",
    "!git push -u origin master"
   ]
  },
  {
   "cell_type": "code",
   "execution_count": null,
   "metadata": {},
   "outputs": [],
   "source": []
  }
 ],
 "metadata": {
  "kernelspec": {
   "display_name": "Python 3",
   "language": "python",
   "name": "python3"
  },
  "language_info": {
   "codemirror_mode": {
    "name": "ipython",
    "version": 3
   },
   "file_extension": ".py",
   "mimetype": "text/x-python",
   "name": "python",
   "nbconvert_exporter": "python",
   "pygments_lexer": "ipython3",
   "version": "3.6.5"
  }
 },
 "nbformat": 4,
 "nbformat_minor": 2
}
