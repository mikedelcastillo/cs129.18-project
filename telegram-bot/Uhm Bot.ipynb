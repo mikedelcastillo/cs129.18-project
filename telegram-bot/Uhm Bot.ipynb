{
 "cells": [
  {
   "cell_type": "code",
   "execution_count": null,
   "metadata": {},
   "outputs": [],
   "source": [
    "from IPython.display import clear_output\n",
    "import os\n",
    "\n",
    "import urllib, json\n",
    "import urllib.request\n",
    "\n",
    "from dotenv import load_dotenv\n",
    "load_dotenv()\n",
    "\n",
    "TLGRM_SECRET = os.getenv('TLGRM_SECRET')\n",
    "TLGRM_MIKE = os.getenv('TLGRM_MIKE')\n",
    "\n",
    "def telegram_call(method, query = {}):\n",
    "    url = 'http://api.telegram.org/bot{}/{}?{}'.format(TLGRM_SECRET, method, urllib.parse.urlencode(query))\n",
    "    response = urllib.request.urlopen(url)\n",
    "    return json.loads(response.read().decode(\"utf-8\"))\n",
    "\n",
    "last_offset = 0\n",
    "\n",
    "while True:\n",
    "    data = telegram_call('getupdates', {'offset': last_offset})\n",
    "    for item in data['result']:\n",
    "        last_offset = item['update_id'] + 1\n",
    "#         print(item)\n",
    "        if 'message' in item:\n",
    "            if 'text' in item['message']:\n",
    "                text = item['message']['text']\n",
    "                chat_id = item['message']['chat']['id']\n",
    "                telegram_call('sendmessage', {\n",
    "                    'chat_id': chat_id,\n",
    "                    'text': text\n",
    "                })"
   ]
  },
  {
   "cell_type": "code",
   "execution_count": null,
   "metadata": {},
   "outputs": [],
   "source": []
  },
  {
   "cell_type": "code",
   "execution_count": null,
   "metadata": {},
   "outputs": [],
   "source": []
  },
  {
   "cell_type": "code",
   "execution_count": null,
   "metadata": {},
   "outputs": [],
   "source": []
  },
  {
   "cell_type": "code",
   "execution_count": null,
   "metadata": {},
   "outputs": [],
   "source": []
  },
  {
   "cell_type": "code",
   "execution_count": null,
   "metadata": {},
   "outputs": [],
   "source": []
  }
 ],
 "metadata": {
  "kernelspec": {
   "display_name": "Python 3",
   "language": "python",
   "name": "python3"
  },
  "language_info": {
   "codemirror_mode": {
    "name": "ipython",
    "version": 3
   },
   "file_extension": ".py",
   "mimetype": "text/x-python",
   "name": "python",
   "nbconvert_exporter": "python",
   "pygments_lexer": "ipython3",
   "version": "3.6.5"
  }
 },
 "nbformat": 4,
 "nbformat_minor": 2
}
