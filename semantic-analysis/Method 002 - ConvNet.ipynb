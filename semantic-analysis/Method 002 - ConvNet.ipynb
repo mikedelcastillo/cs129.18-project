{
 "cells": [
  {
   "cell_type": "code",
   "execution_count": 1,
   "metadata": {},
   "outputs": [
    {
     "name": "stderr",
     "output_type": "stream",
     "text": [
      "/anaconda3/lib/python3.6/site-packages/h5py/__init__.py:36: FutureWarning: Conversion of the second argument of issubdtype from `float` to `np.floating` is deprecated. In future, it will be treated as `np.float64 == np.dtype(float).type`.\n",
      "  from ._conv import register_converters as _register_converters\n",
      "Using TensorFlow backend.\n"
     ]
    },
    {
     "data": {
      "text/plain": [
       "0"
      ]
     },
     "execution_count": 1,
     "metadata": {},
     "output_type": "execute_result"
    }
   ],
   "source": [
    "import keras.backend as K\n",
    "import multiprocessing\n",
    "import tensorflow as tf\n",
    "import pandas as pd\n",
    "import numpy as np\n",
    "\n",
    "from math import ceil\n",
    "\n",
    "from gensim.models.word2vec import Word2Vec\n",
    "from gensim.models import KeyedVectors\n",
    "\n",
    "from sklearn.model_selection import train_test_split\n",
    "\n",
    "from keras.callbacks import EarlyStopping\n",
    "from keras.models import Sequential\n",
    "from keras.layers.core import Dense, Dropout, Flatten\n",
    "from keras.layers.convolutional import Conv1D\n",
    "from keras.optimizers import Adam\n",
    "\n",
    "from keras.preprocessing.text import text_to_word_sequence\n",
    "\n",
    "import os.path\n",
    "import gc\n",
    "\n",
    "from time import gmtime, strftime\n",
    "\n",
    "import seaborn as sns\n",
    "import matplotlib.pyplot as plt\n",
    "\n",
    "gc.collect()"
   ]
  },
  {
   "cell_type": "code",
   "execution_count": 2,
   "metadata": {},
   "outputs": [
    {
     "name": "stdout",
     "output_type": "stream",
     "text": [
      "['only' 'y' 'by' 'am' 'most' 'me' 'same' 'these' 'so' 'some' 'why' 'down'\n",
      " 'had' 'd' 'at' 'having' 'those' 'has' 'few' 'theirs' \"you've\" 'more' 'i'\n",
      " 'than' 'through' 'be' 'what' 'where' 'myself' 'which' 'doing' 'ours'\n",
      " 'will' 'in' 'both' 'do' 'it' 'o' 'on' 'yours' 'once' 'ourselves' 'here'\n",
      " 'about' \"it's\" 'my' 'for' 'her' 'then' 'after' \"should've\" 'from' 'each'\n",
      " 'when' 'does' 'now' 'off' 'don' 'are' 'we' 'itself' 'should' 'his'\n",
      " 'between' 'our' 'were' 'under' 'other' 'all' 'she' 'won' 'been' \"you're\"\n",
      " 'how' 'did' 'yourself' 'they' 'into' 'there' 've' 'such' 't' 's' 'and'\n",
      " 'over' 'to' 'just' 'was' 'being' 'because' 'if' 'who' 'further' 'the'\n",
      " 'any' \"that'll\" 'themselves' 'as' 'again' \"you'd\" 'until' 'he' 'him'\n",
      " 'this' 'or' 'of' 'below' 'an' \"she's\" 'weren' 'm' 'their' 'ma' 'up' 'll'\n",
      " 'whom' 'hers' 'can' 'you' 'them' 'very' 'a' 'herself' 'before' 'too'\n",
      " 'himself' 'during' 're' 'out' 'its' 'above' 'own' 'have' 'while'\n",
      " 'yourselves' 'that' 'with' \"you'll\" 'is' 'your']\n"
     ]
    }
   ],
   "source": [
    "from keras.preprocessing.text import text_to_word_sequence\n",
    "\n",
    "stop_words = pd.read_csv('../data/stopwords.csv')['words'].values\n",
    "\n",
    "def remove_stop_words(text):\n",
    "    word_tokens = text_to_word_sequence(text) \n",
    "    filtered_sentence = [w for w in word_tokens if not w in stop_words] \n",
    "    return ' '.join(filtered_sentence)\n",
    "\n",
    "print(stop_words)"
   ]
  },
  {
   "cell_type": "code",
   "execution_count": 3,
   "metadata": {},
   "outputs": [],
   "source": [
    "use_gpu = True\n",
    "\n",
    "config = tf.ConfigProto(intra_op_parallelism_threads=multiprocessing.cpu_count(), \n",
    "                        inter_op_parallelism_threads=multiprocessing.cpu_count(), \n",
    "                        allow_soft_placement=True, \n",
    "                        device_count = {'CPU' : 1, \n",
    "                                        'GPU' : 1 if use_gpu else 0})\n",
    "\n",
    "session = tf.Session(config=config)\n",
    "K.set_session(session)"
   ]
  },
  {
   "cell_type": "code",
   "execution_count": 4,
   "metadata": {},
   "outputs": [],
   "source": [
    "data = pd.read_csv('../data/twitter-airline-sentiment.csv')"
   ]
  },
  {
   "cell_type": "code",
   "execution_count": 5,
   "metadata": {},
   "outputs": [
    {
     "data": {
      "text/html": [
       "<div>\n",
       "<style scoped>\n",
       "    .dataframe tbody tr th:only-of-type {\n",
       "        vertical-align: middle;\n",
       "    }\n",
       "\n",
       "    .dataframe tbody tr th {\n",
       "        vertical-align: top;\n",
       "    }\n",
       "\n",
       "    .dataframe thead th {\n",
       "        text-align: right;\n",
       "    }\n",
       "</style>\n",
       "<table border=\"1\" class=\"dataframe\">\n",
       "  <thead>\n",
       "    <tr style=\"text-align: right;\">\n",
       "      <th></th>\n",
       "      <th>text</th>\n",
       "      <th>pos</th>\n",
       "      <th>neg</th>\n",
       "    </tr>\n",
       "  </thead>\n",
       "  <tbody>\n",
       "    <tr>\n",
       "      <th>0</th>\n",
       "      <td>said</td>\n",
       "      <td>0.0</td>\n",
       "      <td>0.0</td>\n",
       "    </tr>\n",
       "    <tr>\n",
       "      <th>1</th>\n",
       "      <td>plus youve added commercials experience tacky</td>\n",
       "      <td>1.0</td>\n",
       "      <td>0.0</td>\n",
       "    </tr>\n",
       "    <tr>\n",
       "      <th>2</th>\n",
       "      <td>didnt today must mean need take another trip</td>\n",
       "      <td>0.0</td>\n",
       "      <td>0.0</td>\n",
       "    </tr>\n",
       "    <tr>\n",
       "      <th>3</th>\n",
       "      <td>really aggressive blast obnoxious entertainmen...</td>\n",
       "      <td>0.0</td>\n",
       "      <td>1.0</td>\n",
       "    </tr>\n",
       "    <tr>\n",
       "      <th>4</th>\n",
       "      <td>really big bad thing</td>\n",
       "      <td>0.0</td>\n",
       "      <td>1.0</td>\n",
       "    </tr>\n",
       "  </tbody>\n",
       "</table>\n",
       "</div>"
      ],
      "text/plain": [
       "                                                text  pos  neg\n",
       "0                                               said  0.0  0.0\n",
       "1      plus youve added commercials experience tacky  1.0  0.0\n",
       "2       didnt today must mean need take another trip  0.0  0.0\n",
       "3  really aggressive blast obnoxious entertainmen...  0.0  1.0\n",
       "4                               really big bad thing  0.0  1.0"
      ]
     },
     "execution_count": 5,
     "metadata": {},
     "output_type": "execute_result"
    }
   ],
   "source": [
    "data['text'] = list(map(remove_stop_words, data['text'].values))\n",
    "data.head()"
   ]
  },
  {
   "cell_type": "code",
   "execution_count": 6,
   "metadata": {},
   "outputs": [
    {
     "name": "stdout",
     "output_type": "stream",
     "text": [
      "Corpus size: 13871\n"
     ]
    }
   ],
   "source": [
    "corpus = [text_to_word_sequence(y) for y in [x[0] for x in data[['text']].values]]\n",
    "labels = [np.array(x[[0, 1]]) for x in data[['pos', 'neg']].values]\n",
    "    \n",
    "print('Corpus size: {}'.format(len(corpus)))"
   ]
  },
  {
   "cell_type": "code",
   "execution_count": 7,
   "metadata": {},
   "outputs": [],
   "source": [
    "max_sentence_length = 35\n",
    "vector_size = 300"
   ]
  },
  {
   "cell_type": "code",
   "execution_count": 8,
   "metadata": {},
   "outputs": [
    {
     "data": {
      "text/plain": [
       "7"
      ]
     },
     "execution_count": 8,
     "metadata": {},
     "output_type": "execute_result"
    }
   ],
   "source": [
    "from gensim.models.word2vec import Word2Vec\n",
    "from gensim.models import KeyedVectors\n",
    "\n",
    "word2vec = Word2Vec(sentences=corpus,\n",
    "                    size=vector_size, \n",
    "                    window=10, \n",
    "                    negative=20,\n",
    "                    iter=50,\n",
    "                    seed=1000,\n",
    "                    workers=multiprocessing.cpu_count())\n",
    "\n",
    "vecs_x = word2vec.wv\n",
    "gc.collect()"
   ]
  },
  {
   "cell_type": "code",
   "execution_count": 9,
   "metadata": {},
   "outputs": [],
   "source": [
    "def pad_vec_data(corpus):\n",
    "    gc.collect()\n",
    "    input_matrix = np.zeros((len(corpus), max_sentence_length, vector_size), dtype=K.floatx())\n",
    "    for i in range(len(corpus)):\n",
    "        for t, token in enumerate(corpus[i]):\n",
    "            if t >= max_sentence_length:\n",
    "                break\n",
    "            if token not in vecs_x:\n",
    "                continue\n",
    "            input_matrix[i, t, :] = vecs_x[token]\n",
    "    return input_matrix"
   ]
  },
  {
   "cell_type": "code",
   "execution_count": 10,
   "metadata": {},
   "outputs": [],
   "source": [
    "# Keras convolutional model\n",
    "gc.collect()\n",
    "batch_size = 16\n",
    "nb_epochs = 20\n",
    "\n",
    "model = Sequential()\n",
    "\n",
    "model.add(Conv1D(32, kernel_size=3, activation='elu', padding='same', input_shape=(max_sentence_length, vector_size)))\n",
    "model.add(Conv1D(32, kernel_size=3, activation='elu', padding='same'))\n",
    "model.add(Conv1D(32, kernel_size=3, activation='elu', padding='same'))\n",
    "model.add(Conv1D(32, kernel_size=3, activation='elu', padding='same'))\n",
    "model.add(Dropout(0.25))\n",
    "\n",
    "model.add(Conv1D(32, kernel_size=2, activation='elu', padding='same'))\n",
    "model.add(Conv1D(32, kernel_size=2, activation='elu', padding='same'))\n",
    "model.add(Conv1D(32, kernel_size=2, activation='elu', padding='same'))\n",
    "model.add(Conv1D(32, kernel_size=2, activation='elu', padding='same'))\n",
    "model.add(Dropout(0.25))\n",
    "\n",
    "model.add(Flatten())\n",
    "\n",
    "model.add(Dense(256, activation='tanh'))\n",
    "model.add(Dense(256, activation='tanh'))\n",
    "model.add(Dropout(0.5))\n",
    "\n",
    "model.add(Dense(2, activation='softmax'))\n",
    "\n",
    "\n",
    "model.compile(loss='categorical_crossentropy',\n",
    "              optimizer=Adam(lr=0.0001, decay=1e-6),\n",
    "              metrics=['accuracy'])"
   ]
  },
  {
   "cell_type": "code",
   "execution_count": 11,
   "metadata": {},
   "outputs": [
    {
     "name": "stdout",
     "output_type": "stream",
     "text": [
      "Train on 11096 samples, validate on 2775 samples\n",
      "Epoch 1/20\n",
      "11096/11096 [==============================] - 34s 3ms/step - loss: 0.2673 - acc: 0.7144 - val_loss: 0.2202 - val_acc: 0.7341\n",
      "Epoch 2/20\n",
      "11096/11096 [==============================] - 30s 3ms/step - loss: 0.2174 - acc: 0.7459 - val_loss: 0.2175 - val_acc: 0.7258\n",
      "Epoch 3/20\n",
      "11096/11096 [==============================] - 30s 3ms/step - loss: 0.2048 - acc: 0.7538 - val_loss: 0.2103 - val_acc: 0.7344\n",
      "Epoch 4/20\n",
      "11096/11096 [==============================] - 29s 3ms/step - loss: 0.1955 - acc: 0.7578 - val_loss: 0.2124 - val_acc: 0.7323\n",
      "Epoch 5/20\n",
      "11096/11096 [==============================] - 28s 3ms/step - loss: 0.1842 - acc: 0.7600 - val_loss: 0.2151 - val_acc: 0.7456\n",
      "Epoch 6/20\n",
      "11096/11096 [==============================] - 26s 2ms/step - loss: 0.1756 - acc: 0.7669 - val_loss: 0.2253 - val_acc: 0.7315\n",
      "Epoch 7/20\n",
      "11096/11096 [==============================] - 26s 2ms/step - loss: 0.1678 - acc: 0.7660 - val_loss: 0.2114 - val_acc: 0.7366\n",
      "Epoch 8/20\n",
      "11096/11096 [==============================] - 29s 3ms/step - loss: 0.1563 - acc: 0.7763 - val_loss: 0.2316 - val_acc: 0.7323\n",
      "Epoch 9/20\n",
      "11096/11096 [==============================] - 33s 3ms/step - loss: 0.1473 - acc: 0.7778 - val_loss: 0.2329 - val_acc: 0.7405\n",
      "Epoch 10/20\n",
      "11096/11096 [==============================] - 34s 3ms/step - loss: 0.1394 - acc: 0.7827 - val_loss: 0.2439 - val_acc: 0.7373\n",
      "Epoch 11/20\n",
      "11096/11096 [==============================] - 35s 3ms/step - loss: 0.1302 - acc: 0.7851 - val_loss: 0.2391 - val_acc: 0.7438\n",
      "Epoch 12/20\n",
      "11096/11096 [==============================] - 37s 3ms/step - loss: 0.1293 - acc: 0.7855 - val_loss: 0.2736 - val_acc: 0.7355\n",
      "Epoch 13/20\n",
      "11096/11096 [==============================] - 33s 3ms/step - loss: 0.1211 - acc: 0.7884 - val_loss: 0.2489 - val_acc: 0.7366\n",
      "Epoch 14/20\n",
      "11096/11096 [==============================] - 40s 4ms/step - loss: 0.1086 - acc: 0.7968 - val_loss: 0.2758 - val_acc: 0.7441\n",
      "Epoch 15/20\n",
      "11096/11096 [==============================] - 46s 4ms/step - loss: 0.1019 - acc: 0.7999 - val_loss: 0.2864 - val_acc: 0.7398\n",
      "Epoch 16/20\n",
      "11096/11096 [==============================] - 70s 6ms/step - loss: 0.0983 - acc: 0.7999 - val_loss: 0.2913 - val_acc: 0.7247\n",
      "Epoch 17/20\n",
      "11096/11096 [==============================] - 48s 4ms/step - loss: 0.0914 - acc: 0.8051 - val_loss: 0.3074 - val_acc: 0.7333\n",
      "Epoch 18/20\n",
      "11096/11096 [==============================] - 48s 4ms/step - loss: 0.0861 - acc: 0.8058 - val_loss: 0.3183 - val_acc: 0.7427\n",
      "Epoch 19/20\n",
      "11096/11096 [==============================] - 42s 4ms/step - loss: 0.0797 - acc: 0.8101 - val_loss: 0.3485 - val_acc: 0.7294\n",
      "Epoch 20/20\n",
      "11096/11096 [==============================] - 29s 3ms/step - loss: 0.0787 - acc: 0.8082 - val_loss: 0.3469 - val_acc: 0.7330\n"
     ]
    }
   ],
   "source": [
    "gc.collect()\n",
    "\n",
    "train_x, test_x, train_y, test_y = train_test_split(\n",
    "            pad_vec_data(corpus), \n",
    "            labels, \n",
    "            test_size=0.2, \n",
    "            random_state=3945)\n",
    "\n",
    "train_x = np.array(train_x)\n",
    "test_x = np.array(test_x)\n",
    "train_y = np.array(train_y)\n",
    "test_y = np.array(test_y)\n",
    "gc.collect()\n",
    "\n",
    "history = model.fit(train_x, train_y,\n",
    "          batch_size=batch_size,\n",
    "          shuffle=True,\n",
    "          epochs=nb_epochs,\n",
    "          validation_data=(test_x, test_y),\n",
    "#                   verbose=0,\n",
    "          callbacks=[\n",
    "#                       EarlyStopping(min_delta=0.000025, patience=10),\n",
    "          ])    "
   ]
  },
  {
   "cell_type": "code",
   "execution_count": 12,
   "metadata": {},
   "outputs": [
    {
     "name": "stdout",
     "output_type": "stream",
     "text": [
      "NEGATIVE: hello there, my name is mike [0.00110999 0.99889   ]\n",
      "NEGATIVE: not something i wanted to happen but i think i need to add more words for it to see [0.00417716 0.9958228 ]\n",
      "NEGATIVE: this was something i wanted i'm grateful for this app and i am looking forward to more things from you guys [0.33732253 0.66267747]\n",
      "NEGATIVE: i don't fucking like you man [0.01512365 0.9848763 ]\n",
      "NEGATIVE: considering how the usual process for this is tedious, having an app like this solves a lot of problems [0.12617864 0.8738213 ]\n",
      "POSITIVE: thank you that was some wonderful service that really helped me get from point A to point B [0.99155957 0.00844036]\n",
      "POSITIVE: this is amazing and was able to shorten the amount of time i needed to take to achieve this [0.79982466 0.20017536]\n",
      "POSITIVE: this is nothing short of amazing, I cannot believe it [0.91864926 0.0813507 ]\n",
      "NEGATIVE: how are you [0.23402707 0.765973  ]\n",
      "NEGATIVE: i really like you [9.1120700e-04 9.9908876e-01]\n",
      "NEGATIVE: i don't actually like this product! [0.01786624 0.9821338 ]\n",
      "NEGATIVE: it's useless if you can't use it! [0.07302304 0.92697704]\n",
      "NEGATIVE: i can't believe i never heard of this [5.2061403e-04 9.9947935e-01]\n",
      "NEGATIVE: this is awesome, didn't know I needed this [0.4630598 0.5369401]\n",
      "NEGATIVE: so what am i supposed to use this for? [0.00804143 0.9919586 ]\n",
      "NEGATIVE: what do I need this for? [0.0034333  0.99656665]\n",
      "POSITIVE: this is good [0.72520643 0.27479357]\n",
      "NEGATIVE: this is not good [0.1273968  0.87260324]\n",
      "NEGATIVE: although the movie was great, it lacked impact [0.00987113 0.9901288 ]\n",
      "NEGATIVE: the movie wasnt that nice [0.24036464 0.7596354 ]\n",
      "NEGATIVE: the movie was nice [2.3732509e-04 9.9976271e-01]\n",
      "NEGATIVE: this is not acceptable, I lost everything using your app [0.00114038 0.99885964]\n",
      "NEGATIVE: that was kinda stupid [0.00622359 0.99377644]\n",
      "POSITIVE: the instructions were unlear and is not friendly for non-techy people [0.80386317 0.1961368 ]\n",
      "NEGATIVE: this is really useful i would definitely tell everyone about it [0.00423723 0.99576277]\n",
      "NEGATIVE: i need to try this! [0.0228296  0.97717035]\n",
      "NEGATIVE: which is your favourite harry potter filmsorcerers stonechamber of secretsprisoner of azkabangoblet of firei like them all equallyi hate harry potter and think this is a stupid question [0.13888766 0.8611123 ]\n",
      "POSITIVE: sitting in the third row of the imax cinema at sydney s darling harbour  but i sometimes felt as though i was in the tiny two seater plane that carried the giant camera around australia  sweeping and gliding  banking and hovering over some of the most not [0.5417993  0.45820066]\n",
      "\n"
     ]
    }
   ],
   "source": [
    "mess = [\n",
    "    \"hello there, my name is mike\",\n",
    "    \"not something i wanted to happen but i think i need to add more words for it to see\",\n",
    "    \"this was something i wanted i'm grateful for this app and i am looking forward to more things from you guys\",\n",
    "    \"i don't fucking like you man\",\n",
    "    \"considering how the usual process for this is tedious, having an app like this solves a lot of problems\",\n",
    "    \"thank you that was some wonderful service that really helped me get from point A to point B\",\n",
    "    \"this is amazing and was able to shorten the amount of time i needed to take to achieve this\",\n",
    "    \"this is nothing short of amazing, I cannot believe it\",\n",
    "    \"how are you\",\n",
    "    \"i really like you\",\n",
    "    \"i don't actually like this product!\",\n",
    "    \"it's useless if you can't use it!\",\n",
    "    \"i can't believe i never heard of this\",\n",
    "    \"this is awesome, didn't know I needed this\",\n",
    "    \"so what am i supposed to use this for?\",\n",
    "    \"what do I need this for?\",\n",
    "    \"this is good\",\n",
    "    \"this is not good\",\n",
    "    \"although the movie was great, it lacked impact\",\n",
    "    \"the movie wasnt that nice\",\n",
    "    \"the movie was nice\",\n",
    "    \"this is not acceptable, I lost everything using your app\",\n",
    "    \"that was kinda stupid\",\n",
    "    \"the instructions were unlear and is not friendly for non-techy people\",\n",
    "    \"this is really useful i would definitely tell everyone about it\",\n",
    "    \"i need to try this!\",\n",
    "    \"which is your favourite harry potter filmsorcerers stonechamber of secretsprisoner of azkabangoblet of firei like them all equallyi hate harry potter and think this is a stupid question\",\n",
    "    \"sitting in the third row of the imax cinema at sydney s darling harbour  but i sometimes felt as though i was in the tiny two seater plane that carried the giant camera around australia  sweeping and gliding  banking and hovering over some of the most not\",\n",
    "]\n",
    "\n",
    "pred = model.predict(pad_vec_data(list(map(remove_stop_words, mess))))\n",
    "output = ''\n",
    "\n",
    "for i ,m in enumerate(mess):\n",
    "    output += ('{} {} {}\\n'.format('POSITIVE:' if pred[i][0] > 0.5 else 'NEGATIVE:', m, pred[i]))\n",
    "\n",
    "print(output)"
   ]
  },
  {
   "cell_type": "code",
   "execution_count": null,
   "metadata": {},
   "outputs": [],
   "source": []
  }
 ],
 "metadata": {
  "kernelspec": {
   "display_name": "Python 3",
   "language": "python",
   "name": "python3"
  },
  "language_info": {
   "codemirror_mode": {
    "name": "ipython",
    "version": 3
   },
   "file_extension": ".py",
   "mimetype": "text/x-python",
   "name": "python",
   "nbconvert_exporter": "python",
   "pygments_lexer": "ipython3",
   "version": "3.6.5"
  }
 },
 "nbformat": 4,
 "nbformat_minor": 2
}
